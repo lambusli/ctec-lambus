{
 "cells": [
  {
   "cell_type": "markdown",
   "metadata": {},
   "source": [
    "# Experiment 01\n",
    "\n",
    "### General description\n",
    "\n",
    "<ul>\n",
    "    <li>Encoding: TF-IDF</li>\n",
    "    <li>Models: logistic regression vs. linear SVC vs. multinomial bayesian</li>\n",
    "    <li>Training set: 100% jigsaw dataset</li>\n",
    "    <li>Test set: CTEC dataset (sent by Alex)</li>\n",
    "    <li>Metric: ROC AUC score</li>\n",
    "</ul>\n",
    "\n",
    "### Hyperparameter tuning \n",
    "\n",
    "#### Logistic regression\n",
    "\n",
    "<ul>\n",
    "    <li>inverse of regularization strength: 0.1, 1, 10</li>\n",
    "</ul>\n",
    "    \n",
    "#### Multinomial naive Bayes\n",
    "\n",
    "<ul>\n",
    "    <li>additive smoothing rate: 0.1, 1, 10</li>\n",
    "</ul>\n",
    "\n",
    "#### Linear SVC\n",
    "\n",
    "<ul>\n",
    "    <li>inverse of regularization strength: 0.1, 1, 10</li>\n",
    "</ul>"
   ]
  },
  {
   "cell_type": "code",
   "execution_count": 12,
   "metadata": {},
   "outputs": [],
   "source": [
    "# Import modules \n",
    "import pandas as pd\n",
    "import numpy as np\n",
    "from sklearn.feature_extraction.text import TfidfVectorizer \n",
    "from sklearn.linear_model import LogisticRegression\n",
    "from sklearn.naive_bayes import MultinomialNB\n",
    "from sklearn.svm import LinearSVC, SVC\n",
    "from sklearn.model_selection import GridSearchCV\n",
    "from sklearn import metrics\n",
    "from sklearn.calibration import CalibratedClassifierCV\n",
    "from sklearn.preprocessing import StandardScaler\n",
    "\n",
    "import warnings \n",
    "warnings.simplefilter('module')"
   ]
  },
  {
   "cell_type": "markdown",
   "metadata": {},
   "source": [
    "## Part 1 Load data and set up models\n",
    "\n",
    "In the dataset, the texts are already pre-processed (uncensoring, lemmatizing, etc.). "
   ]
  },
  {
   "cell_type": "markdown",
   "metadata": {},
   "source": [
    "### Load datasets"
   ]
  },
  {
   "cell_type": "code",
   "execution_count": 2,
   "metadata": {},
   "outputs": [],
   "source": [
    "# Load data\n",
    "toxic_df_train = pd.read_csv('train_preproc_shrk.csv')\n",
    "toxic_df_test = pd.read_csv('ctec_training_data_preproc.csv')\n",
    "\n",
    "# All inputs \n",
    "X_train_text = toxic_df_train['comment_text']\n",
    "X_test_text = toxic_df_test['comment_text']\n",
    "\n",
    "# target >= 0.5 --> toxic --> label = 1\n",
    "# target < 0.5 --> non-toxic --> label = 0\n",
    "toxic_df_train.loc[toxic_df_train['target'] >= 0.5, 'label'] = 1\n",
    "toxic_df_train.loc[toxic_df_train['target'] < 0.5, 'label'] = 0\n",
    "\n",
    "# All labels / outputs \n",
    "y_train = toxic_df_train['label']\n",
    "y_test = toxic_df_test['label']\n"
   ]
  },
  {
   "cell_type": "markdown",
   "metadata": {},
   "source": [
    "### Vectorize text data with TF-IDF"
   ]
  },
  {
   "cell_type": "code",
   "execution_count": 3,
   "metadata": {},
   "outputs": [],
   "source": [
    "encoder = TfidfVectorizer(strip_accents = 'unicode', stop_words = 'english')\n",
    "X_train_unscaled = encoder.fit_transform(X_train_text)\n",
    "X_test_unscaled = encoder.transform(X_test_text)\n"
   ]
  },
  {
   "cell_type": "markdown",
   "metadata": {},
   "source": [
    "### Normalize data\n",
    "\n",
    "Normalizing data and reaching 0-mean and 1-std can improve the performance of training algorithms, especially SVC. \n",
    "\n",
    "Normalization cannot reach 0-mean on the sparse matrix `X_train_unscaled` because this routine includes building a dense matrix as an intermediate step. Working with dense matrix is computationally expensive. \n"
   ]
  },
  {
   "cell_type": "code",
   "execution_count": 7,
   "metadata": {},
   "outputs": [],
   "source": [
    "scaler = StandardScaler(with_mean = False)\n",
    "X_train = scaler.fit_transform(X_train_unscaled)\n",
    "X_test = scaler.transform(X_test_unscaled)"
   ]
  },
  {
   "cell_type": "markdown",
   "metadata": {},
   "source": [
    "## Part 2: Training and testing"
   ]
  },
  {
   "cell_type": "markdown",
   "metadata": {},
   "source": [
    "### Logistic regression"
   ]
  },
  {
   "cell_type": "code",
   "execution_count": 8,
   "metadata": {},
   "outputs": [
    {
     "name": "stdout",
     "output_type": "stream",
     "text": [
      "CPU times: user 15.8 s, sys: 13.2 s, total: 29 s\n",
      "Wall time: 7.49 s\n",
      "\n",
      "Logistic regression\n",
      "best parameter = {'C': 0.1}\n"
     ]
    },
    {
     "data": {
      "text/html": [
       "<div>\n",
       "<style scoped>\n",
       "    .dataframe tbody tr th:only-of-type {\n",
       "        vertical-align: middle;\n",
       "    }\n",
       "\n",
       "    .dataframe tbody tr th {\n",
       "        vertical-align: top;\n",
       "    }\n",
       "\n",
       "    .dataframe thead th {\n",
       "        text-align: right;\n",
       "    }\n",
       "</style>\n",
       "<table border=\"1\" class=\"dataframe\">\n",
       "  <thead>\n",
       "    <tr style=\"text-align: right;\">\n",
       "      <th></th>\n",
       "      <th>metric</th>\n",
       "      <th>train set</th>\n",
       "      <th>test set</th>\n",
       "    </tr>\n",
       "  </thead>\n",
       "  <tbody>\n",
       "    <tr>\n",
       "      <th>0</th>\n",
       "      <td>accuracy</td>\n",
       "      <td>1</td>\n",
       "      <td>0.134292</td>\n",
       "    </tr>\n",
       "    <tr>\n",
       "      <th>1</th>\n",
       "      <td>confusion matrix</td>\n",
       "      <td>[[9182, 0], [0, 818]]</td>\n",
       "      <td>[[1755, 146], [20199, 1401]]</td>\n",
       "    </tr>\n",
       "    <tr>\n",
       "      <th>2</th>\n",
       "      <td>F1 score</td>\n",
       "      <td>1</td>\n",
       "      <td>0.121052</td>\n",
       "    </tr>\n",
       "    <tr>\n",
       "      <th>3</th>\n",
       "      <td>ROC AUC score</td>\n",
       "      <td>1</td>\n",
       "      <td>0.49403</td>\n",
       "    </tr>\n",
       "  </tbody>\n",
       "</table>\n",
       "</div>"
      ],
      "text/plain": [
       "             metric              train set                      test set\n",
       "0          accuracy                      1                      0.134292\n",
       "1  confusion matrix  [[9182, 0], [0, 818]]  [[1755, 146], [20199, 1401]]\n",
       "2          F1 score                      1                      0.121052\n",
       "3     ROC AUC score                      1                       0.49403"
      ]
     },
     "execution_count": 8,
     "metadata": {},
     "output_type": "execute_result"
    }
   ],
   "source": [
    "# Model and hyperparameterization\n",
    "clf = GridSearchCV(\n",
    "    LogisticRegression(), \n",
    "    param_grid = {'C': [0.1, 1, 10]}, \n",
    "    scoring = 'roc_auc'\n",
    ")\n",
    "\n",
    "# Train \n",
    "%time clf.fit(X_train, y_train)\n",
    " \n",
    "# Predict label\n",
    "y_train_pred_class = clf.predict(X_train)\n",
    "y_test_pred_class = clf.predict(X_test)\n",
    "# Predict probability of being toxic\n",
    "y_train_pred_prob = clf.predict_proba(X_train)[:,1]\n",
    "y_test_pred_prob = clf.predict_proba(X_test)[:,1]\n",
    "\n",
    "print('\\nLogistic regression')\n",
    "print(f'best parameter = {clf.best_params_}')\n",
    "\n",
    "# Store results\n",
    "results = [\n",
    "    [\n",
    "        'accuracy', \n",
    "        metrics.accuracy_score(y_train, y_train_pred_class), \n",
    "        metrics.accuracy_score(y_test, y_test_pred_class)\n",
    "    ], \n",
    "    [\n",
    "        'confusion matrix', \n",
    "        str(metrics.confusion_matrix(y_train, y_train_pred_class).tolist()), \n",
    "        str(metrics.confusion_matrix(y_test, y_test_pred_class).tolist())\n",
    "    ], \n",
    "    [\n",
    "        'F1 score', \n",
    "        metrics.f1_score(y_train, y_train_pred_class), \n",
    "        metrics.f1_score(y_test, y_test_pred_class)\n",
    "    ], \n",
    "    [\n",
    "        'ROC AUC score', \n",
    "        metrics.roc_auc_score(y_train, y_train_pred_class), \n",
    "        metrics.roc_auc_score(y_test, y_test_pred_class)\n",
    "    ]\n",
    "]\n",
    "\n",
    "colNames = ['metric', 'train set', 'test set']\n",
    "\n",
    "# Show result \n",
    "pd.DataFrame(results, columns = colNames)"
   ]
  },
  {
   "cell_type": "markdown",
   "metadata": {},
   "source": [
    "### Multinomial naive Bayes"
   ]
  },
  {
   "cell_type": "code",
   "execution_count": 9,
   "metadata": {},
   "outputs": [
    {
     "name": "stdout",
     "output_type": "stream",
     "text": [
      "CPU times: user 186 ms, sys: 3.15 ms, total: 189 ms\n",
      "Wall time: 195 ms\n",
      "\n",
      "Multinomial naive Bayes\n",
      "best parameter = {'alpha': 0.1}\n"
     ]
    },
    {
     "data": {
      "text/html": [
       "<div>\n",
       "<style scoped>\n",
       "    .dataframe tbody tr th:only-of-type {\n",
       "        vertical-align: middle;\n",
       "    }\n",
       "\n",
       "    .dataframe tbody tr th {\n",
       "        vertical-align: top;\n",
       "    }\n",
       "\n",
       "    .dataframe thead th {\n",
       "        text-align: right;\n",
       "    }\n",
       "</style>\n",
       "<table border=\"1\" class=\"dataframe\">\n",
       "  <thead>\n",
       "    <tr style=\"text-align: right;\">\n",
       "      <th></th>\n",
       "      <th>metric</th>\n",
       "      <th>train set</th>\n",
       "      <th>test set</th>\n",
       "    </tr>\n",
       "  </thead>\n",
       "  <tbody>\n",
       "    <tr>\n",
       "      <th>0</th>\n",
       "      <td>accuracy</td>\n",
       "      <td>0.9497</td>\n",
       "      <td>0.202077</td>\n",
       "    </tr>\n",
       "    <tr>\n",
       "      <th>1</th>\n",
       "      <td>confusion matrix</td>\n",
       "      <td>[[8679, 503], [0, 818]]</td>\n",
       "      <td>[[1486, 415], [18337, 3263]]</td>\n",
       "    </tr>\n",
       "    <tr>\n",
       "      <th>2</th>\n",
       "      <td>F1 score</td>\n",
       "      <td>0.764843</td>\n",
       "      <td>0.258169</td>\n",
       "    </tr>\n",
       "    <tr>\n",
       "      <th>3</th>\n",
       "      <td>ROC AUC score</td>\n",
       "      <td>0.972609</td>\n",
       "      <td>0.466379</td>\n",
       "    </tr>\n",
       "  </tbody>\n",
       "</table>\n",
       "</div>"
      ],
      "text/plain": [
       "             metric                train set                      test set\n",
       "0          accuracy                   0.9497                      0.202077\n",
       "1  confusion matrix  [[8679, 503], [0, 818]]  [[1486, 415], [18337, 3263]]\n",
       "2          F1 score                 0.764843                      0.258169\n",
       "3     ROC AUC score                 0.972609                      0.466379"
      ]
     },
     "execution_count": 9,
     "metadata": {},
     "output_type": "execute_result"
    }
   ],
   "source": [
    "# Model and hyperparameterization\n",
    "clf = GridSearchCV(\n",
    "    MultinomialNB(), \n",
    "    param_grid = {'alpha': [0.1, 1, 10]}, \n",
    "    scoring = 'roc_auc'\n",
    ")\n",
    "\n",
    "# Train \n",
    "%time clf.fit(X_train, y_train)\n",
    " \n",
    "# Predict label\n",
    "y_train_pred_class = clf.predict(X_train)\n",
    "y_test_pred_class = clf.predict(X_test)\n",
    "# Predict probability of being toxic\n",
    "y_train_pred_prob = clf.predict_proba(X_train)[:,1]\n",
    "y_test_pred_prob = clf.predict_proba(X_test)[:,1]\n",
    "\n",
    "print('\\nMultinomial naive Bayes')\n",
    "print(f'best parameter = {clf.best_params_}')\n",
    "\n",
    "# Store results\n",
    "results = [\n",
    "    [\n",
    "        'accuracy', \n",
    "        metrics.accuracy_score(y_train, y_train_pred_class), \n",
    "        metrics.accuracy_score(y_test, y_test_pred_class)\n",
    "    ], \n",
    "    [\n",
    "        'confusion matrix', \n",
    "        str(metrics.confusion_matrix(y_train, y_train_pred_class).tolist()), \n",
    "        str(metrics.confusion_matrix(y_test, y_test_pred_class).tolist())\n",
    "    ], \n",
    "    [\n",
    "        'F1 score', \n",
    "        metrics.f1_score(y_train, y_train_pred_class), \n",
    "        metrics.f1_score(y_test, y_test_pred_class)\n",
    "    ], \n",
    "    [\n",
    "        'ROC AUC score', \n",
    "        metrics.roc_auc_score(y_train, y_train_pred_class), \n",
    "        metrics.roc_auc_score(y_test, y_test_pred_class)\n",
    "    ]\n",
    "]\n",
    "\n",
    "colNames = ['metric', 'train set', 'test set']\n",
    "\n",
    "# Show result \n",
    "pd.DataFrame(results, columns = colNames)"
   ]
  },
  {
   "cell_type": "markdown",
   "metadata": {},
   "source": [
    "### Linear SVC with calibrated probability  \n",
    "\n",
    "I don't have full understanding of how the calibration works, though. "
   ]
  },
  {
   "cell_type": "code",
   "execution_count": 14,
   "metadata": {},
   "outputs": [
    {
     "name": "stderr",
     "output_type": "stream",
     "text": [
      "/usr/lib/python3.8/site-packages/ipykernel/ipkernel.py:287: DeprecationWarning: `should_run_async` will not call `transform_cell` automatically in the future. Please pass the result to `transformed_cell` argument and any exception that happen during thetransform in `preprocessing_exc_tuple` in IPython 7.17 and above.\n",
      "  and should_run_async(code)\n"
     ]
    },
    {
     "name": "stdout",
     "output_type": "stream",
     "text": [
      "CPU times: user 15.3 s, sys: 270 µs, total: 15.3 s\n",
      "Wall time: 15.5 s\n",
      "\n",
      "Linear SVC with calirated classifier\n",
      "best parameter = {'base_estimator__C': 10}\n"
     ]
    },
    {
     "data": {
      "text/html": [
       "<div>\n",
       "<style scoped>\n",
       "    .dataframe tbody tr th:only-of-type {\n",
       "        vertical-align: middle;\n",
       "    }\n",
       "\n",
       "    .dataframe tbody tr th {\n",
       "        vertical-align: top;\n",
       "    }\n",
       "\n",
       "    .dataframe thead th {\n",
       "        text-align: right;\n",
       "    }\n",
       "</style>\n",
       "<table border=\"1\" class=\"dataframe\">\n",
       "  <thead>\n",
       "    <tr style=\"text-align: right;\">\n",
       "      <th></th>\n",
       "      <th>metric</th>\n",
       "      <th>train set</th>\n",
       "      <th>test set</th>\n",
       "    </tr>\n",
       "  </thead>\n",
       "  <tbody>\n",
       "    <tr>\n",
       "      <th>0</th>\n",
       "      <td>accuracy</td>\n",
       "      <td>1</td>\n",
       "      <td>0.11825</td>\n",
       "    </tr>\n",
       "    <tr>\n",
       "      <th>1</th>\n",
       "      <td>confusion matrix</td>\n",
       "      <td>[[9182, 0], [0, 818]]</td>\n",
       "      <td>[[1811, 90], [20632, 968]]</td>\n",
       "    </tr>\n",
       "    <tr>\n",
       "      <th>2</th>\n",
       "      <td>F1 score</td>\n",
       "      <td>1</td>\n",
       "      <td>0.0854444</td>\n",
       "    </tr>\n",
       "    <tr>\n",
       "      <th>3</th>\n",
       "      <td>ROC AUC score</td>\n",
       "      <td>1</td>\n",
       "      <td>0.498736</td>\n",
       "    </tr>\n",
       "  </tbody>\n",
       "</table>\n",
       "</div>"
      ],
      "text/plain": [
       "             metric              train set                    test set\n",
       "0          accuracy                      1                     0.11825\n",
       "1  confusion matrix  [[9182, 0], [0, 818]]  [[1811, 90], [20632, 968]]\n",
       "2          F1 score                      1                   0.0854444\n",
       "3     ROC AUC score                      1                    0.498736"
      ]
     },
     "execution_count": 14,
     "metadata": {},
     "output_type": "execute_result"
    }
   ],
   "source": [
    "# Linear SVC does not support predict_proba()\n",
    "# However, we can bypass this problem by using CalibratedClassifierCV()\n",
    "caliclf = CalibratedClassifierCV(base_estimator = LinearSVC(max_iter = 3000))\n",
    "\n",
    "# Model and hyperparameterization\n",
    "clf = GridSearchCV(\n",
    "    caliclf, \n",
    "    param_grid = {'base_estimator__C': [0.1, 1, 10]}, \n",
    "    scoring = 'roc_auc'\n",
    ")\n",
    "\n",
    "# Train \n",
    "%time clf.fit(X_train, y_train)\n",
    " \n",
    "# Predict label\n",
    "y_train_pred_class = clf.predict(X_train)\n",
    "y_test_pred_class = clf.predict(X_test)\n",
    "# Predict probability of being toxic\n",
    "y_train_pred_prob = clf.predict_proba(X_train)[:,1]\n",
    "y_test_pred_prob = clf.predict_proba(X_test)[:,1]\n",
    "\n",
    "print('\\nLinear SVC with calirated classifier')\n",
    "print(f'best parameter = {clf.best_params_}')\n",
    "\n",
    "# Store results\n",
    "results = [\n",
    "    [\n",
    "        'accuracy', \n",
    "        metrics.accuracy_score(y_train, y_train_pred_class), \n",
    "        metrics.accuracy_score(y_test, y_test_pred_class)\n",
    "    ], \n",
    "    [\n",
    "        'confusion matrix', \n",
    "        str(metrics.confusion_matrix(y_train, y_train_pred_class).tolist()), \n",
    "        str(metrics.confusion_matrix(y_test, y_test_pred_class).tolist())\n",
    "    ], \n",
    "    [\n",
    "        'F1 score', \n",
    "        metrics.f1_score(y_train, y_train_pred_class), \n",
    "        metrics.f1_score(y_test, y_test_pred_class)\n",
    "    ], \n",
    "    [\n",
    "        'ROC AUC score', \n",
    "        metrics.roc_auc_score(y_train, y_train_pred_class), \n",
    "        metrics.roc_auc_score(y_test, y_test_pred_class)\n",
    "    ]\n",
    "]\n",
    "\n",
    "colNames = ['metric', 'train set', 'test set']\n",
    "\n",
    "# Show result \n",
    "pd.DataFrame(results, columns = colNames)"
   ]
  },
  {
   "cell_type": "code",
   "execution_count": null,
   "metadata": {},
   "outputs": [],
   "source": []
  }
 ],
 "metadata": {
  "kernelspec": {
   "display_name": "Python 3",
   "language": "python",
   "name": "python3"
  },
  "language_info": {
   "codemirror_mode": {
    "name": "ipython",
    "version": 3
   },
   "file_extension": ".py",
   "mimetype": "text/x-python",
   "name": "python",
   "nbconvert_exporter": "python",
   "pygments_lexer": "ipython3",
   "version": "3.8.1"
  }
 },
 "nbformat": 4,
 "nbformat_minor": 4
}
