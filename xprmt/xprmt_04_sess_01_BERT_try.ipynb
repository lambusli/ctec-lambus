{
 "cells": [
  {
   "cell_type": "markdown",
   "metadata": {
    "colab_type": "text",
    "id": "PRbRylbUMqtI"
   },
   "source": [
    "# Experiment 04\n",
    "\n",
    "The first trial of BERT transformer. \n",
    "\n",
    "Tutorial link https://www.curiousily.com/posts/sentiment-analysis-with-bert-and-hugging-face-using-pytorch-and-python/"
   ]
  },
  {
   "cell_type": "code",
   "execution_count": 123,
   "metadata": {
    "colab": {
     "base_uri": "https://localhost:8080/",
     "height": 55
    },
    "colab_type": "code",
    "executionInfo": {
     "elapsed": 315,
     "status": "ok",
     "timestamp": 1597877187809,
     "user": {
      "displayName": "Tianzhi Li",
      "photoUrl": "",
      "userId": "09071292365475398036"
     },
     "user_tz": 240
    },
    "id": "jw-1v5JSMsp_",
    "outputId": "1bf839a5-b5e6-46bf-ace1-8b1d869315f2"
   },
   "outputs": [
    {
     "name": "stdout",
     "output_type": "stream",
     "text": [
      "Drive already mounted at /content/drive; to attempt to forcibly remount, call drive.mount(\"/content/drive\", force_remount=True).\n"
     ]
    }
   ],
   "source": [
    "from google.colab import drive\n",
    "drive.mount('/content/drive')"
   ]
  },
  {
   "cell_type": "code",
   "execution_count": 124,
   "metadata": {
    "colab": {},
    "colab_type": "code",
    "executionInfo": {
     "elapsed": 468,
     "status": "ok",
     "timestamp": 1597877187974,
     "user": {
      "displayName": "Tianzhi Li",
      "photoUrl": "",
      "userId": "09071292365475398036"
     },
     "user_tz": 240
    },
    "id": "xV81-NRPM6yn"
   },
   "outputs": [],
   "source": [
    "# Working directory i.e. \"Lambus Li Internship\"\n",
    "data_pwd = 'drive/My Drive/Lambus Li Internship/'\n",
    "sess_pwd = 'drive/My Drive/Lambus Li Internship/session_results/'"
   ]
  },
  {
   "cell_type": "code",
   "execution_count": 125,
   "metadata": {
    "colab": {
     "base_uri": "https://localhost:8080/",
     "height": 355
    },
    "colab_type": "code",
    "executionInfo": {
     "elapsed": 3123,
     "status": "ok",
     "timestamp": 1597877190640,
     "user": {
      "displayName": "Tianzhi Li",
      "photoUrl": "",
      "userId": "09071292365475398036"
     },
     "user_tz": 240
    },
    "id": "BjQDrjLnNZ0n",
    "outputId": "fafee484-9bc8-4a87-9850-f888f51b6697"
   },
   "outputs": [
    {
     "name": "stdout",
     "output_type": "stream",
     "text": [
      "Requirement already satisfied: transformers in /usr/local/lib/python3.6/dist-packages (3.0.2)\n",
      "Requirement already satisfied: dataclasses; python_version < \"3.7\" in /usr/local/lib/python3.6/dist-packages (from transformers) (0.7)\n",
      "Requirement already satisfied: numpy in /usr/local/lib/python3.6/dist-packages (from transformers) (1.18.5)\n",
      "Requirement already satisfied: regex!=2019.12.17 in /usr/local/lib/python3.6/dist-packages (from transformers) (2019.12.20)\n",
      "Requirement already satisfied: requests in /usr/local/lib/python3.6/dist-packages (from transformers) (2.23.0)\n",
      "Requirement already satisfied: tokenizers==0.8.1.rc1 in /usr/local/lib/python3.6/dist-packages (from transformers) (0.8.1rc1)\n",
      "Requirement already satisfied: tqdm>=4.27 in /usr/local/lib/python3.6/dist-packages (from transformers) (4.41.1)\n",
      "Requirement already satisfied: sentencepiece!=0.1.92 in /usr/local/lib/python3.6/dist-packages (from transformers) (0.1.91)\n",
      "Requirement already satisfied: filelock in /usr/local/lib/python3.6/dist-packages (from transformers) (3.0.12)\n",
      "Requirement already satisfied: sacremoses in /usr/local/lib/python3.6/dist-packages (from transformers) (0.0.43)\n",
      "Requirement already satisfied: packaging in /usr/local/lib/python3.6/dist-packages (from transformers) (20.4)\n",
      "Requirement already satisfied: chardet<4,>=3.0.2 in /usr/local/lib/python3.6/dist-packages (from requests->transformers) (3.0.4)\n",
      "Requirement already satisfied: urllib3!=1.25.0,!=1.25.1,<1.26,>=1.21.1 in /usr/local/lib/python3.6/dist-packages (from requests->transformers) (1.24.3)\n",
      "Requirement already satisfied: certifi>=2017.4.17 in /usr/local/lib/python3.6/dist-packages (from requests->transformers) (2020.6.20)\n",
      "Requirement already satisfied: idna<3,>=2.5 in /usr/local/lib/python3.6/dist-packages (from requests->transformers) (2.10)\n",
      "Requirement already satisfied: six in /usr/local/lib/python3.6/dist-packages (from sacremoses->transformers) (1.15.0)\n",
      "Requirement already satisfied: joblib in /usr/local/lib/python3.6/dist-packages (from sacremoses->transformers) (0.16.0)\n",
      "Requirement already satisfied: click in /usr/local/lib/python3.6/dist-packages (from sacremoses->transformers) (7.1.2)\n",
      "Requirement already satisfied: pyparsing>=2.0.2 in /usr/local/lib/python3.6/dist-packages (from packaging->transformers) (2.4.7)\n"
     ]
    }
   ],
   "source": [
    "# Install packages \n",
    "!pip install transformers "
   ]
  },
  {
   "cell_type": "code",
   "execution_count": 126,
   "metadata": {
    "colab": {
     "base_uri": "https://localhost:8080/",
     "height": 35
    },
    "colab_type": "code",
    "executionInfo": {
     "elapsed": 3110,
     "status": "ok",
     "timestamp": 1597877190641,
     "user": {
      "displayName": "Tianzhi Li",
      "photoUrl": "",
      "userId": "09071292365475398036"
     },
     "user_tz": 240
    },
    "id": "iCcKd8niMqtK",
    "outputId": "0e168967-45f4-4b2c-e4e4-dadb4d4f69cf"
   },
   "outputs": [
    {
     "name": "stdout",
     "output_type": "stream",
     "text": [
      "cuda:0\n"
     ]
    }
   ],
   "source": [
    "import transformers\n",
    "from transformers import BertModel, BertTokenizer, AdamW, get_linear_schedule_with_warmup\n",
    "import torch\n",
    "import numpy as np\n",
    "import pandas as pd\n",
    "import seaborn as sns\n",
    "from pylab import rcParams\n",
    "import matplotlib.pyplot as plt\n",
    "from matplotlib import rc\n",
    "from sklearn.model_selection import train_test_split\n",
    "from sklearn.metrics import confusion_matrix, classification_report\n",
    "from collections import defaultdict\n",
    "from textwrap import wrap\n",
    "from torch import nn, optim\n",
    "from torch.utils.data import Dataset, DataLoader\n",
    "import torch.nn.functional as F\n",
    "import multiprocessing as mp\n",
    "\n",
    "%matplotlib inline\n",
    "%config InlineBackend.figure_format='retina'\n",
    "\n",
    "COLORS_PALETTE = ['green', 'red']\n",
    "\n",
    "sns.set_palette(sns.color_palette(COLORS_PALETTE))\n",
    "\n",
    "rcParams['figure.figsize'] = 12, 6\n",
    "\n",
    "RANDOM_SEED = 42\n",
    "np.random.seed(RANDOM_SEED)\n",
    "torch.manual_seed(RANDOM_SEED)\n",
    "\n",
    "device = torch.device(\n",
    "    'cuda:0' if torch.cuda.is_available() else 'cpu'\n",
    ")\n",
    "\n",
    "print(device)"
   ]
  },
  {
   "cell_type": "markdown",
   "metadata": {
    "colab_type": "text",
    "id": "XpbP_7Q5MqtP"
   },
   "source": [
    "## Load data"
   ]
  },
  {
   "cell_type": "code",
   "execution_count": 127,
   "metadata": {
    "colab": {
     "base_uri": "https://localhost:8080/",
     "height": 88
    },
    "colab_type": "code",
    "executionInfo": {
     "elapsed": 3443,
     "status": "ok",
     "timestamp": 1597877190986,
     "user": {
      "displayName": "Tianzhi Li",
      "photoUrl": "",
      "userId": "09071292365475398036"
     },
     "user_tz": 240
    },
    "id": "yOMSz8KjMqtQ",
    "outputId": "125d88c9-f188-4c67-e905-b70cdd514f32"
   },
   "outputs": [
    {
     "name": "stdout",
     "output_type": "stream",
     "text": [
      "jigsaw # negative examples = 18386\n",
      "jigsaw # positive examples = 1614\n",
      "ctec # negative examples = 1901\n",
      "ctec # positive examples = 21600\n"
     ]
    }
   ],
   "source": [
    "# Load jigsaw and ctec datasets \n",
    "jigsaw_df = pd.read_csv(data_pwd + 'train_preproc_shrk.csv')\n",
    "ctec_df = pd.read_csv(data_pwd + 'ctec_training_data_preproc.csv')\n",
    "\n",
    "# target >= 0.5 --> toxic --> label = 1\n",
    "# target < 0.5 --> non-toxic --> label = 0\n",
    "jigsaw_df.loc[jigsaw_df['target'] >= 0.5, 'label'] = 1\n",
    "jigsaw_df.loc[jigsaw_df['target'] < 0.5, 'label'] = 0\n",
    "\n",
    "# Split by label \n",
    "jigsaw_neg = jigsaw_df[jigsaw_df['label'] == 0]\n",
    "jigsaw_pos = jigsaw_df[jigsaw_df['label'] == 1]\n",
    "ctec_neg = ctec_df[ctec_df['label'] == 0]\n",
    "ctec_pos = ctec_df[ctec_df['label'] == 1]\n",
    "\n",
    "# Show number of positive and negative examples in each dataset \n",
    "print(f'jigsaw # negative examples = {jigsaw_neg.shape[0]}')\n",
    "print(f'jigsaw # positive examples = {jigsaw_pos.shape[0]}')\n",
    "print(f'ctec # negative examples = {ctec_neg.shape[0]}')\n",
    "print(f'ctec # positive examples = {ctec_pos.shape[0]}')\n",
    "\n",
    "# Create training set and test set based on the scheme described above\n",
    "\n",
    "# Randomly sampling indices \n",
    "indpos = np.random.choice(range(ctec_pos.shape[0]), size = 10000, replace = False)\n",
    "indneg = np.random.choice(range(ctec_neg.shape[0]), size = 500, replace = False)\n",
    "notindpos = np.setdiff1d(range(ctec_pos.shape[0]), indpos)\n",
    "notindneg = np.setdiff1d(range(ctec_neg.shape[0]), indneg)\n",
    "\n",
    "# X_trainval in text format, and y_trainval\n",
    "# All jigsaw examples plus sampled ctec examples\n",
    "X_trainval_text = jigsaw_df['comment_text'].append(\n",
    "    ctec_pos['comment_text'].iloc[indpos], \n",
    "    ignore_index = True\n",
    ").append(\n",
    "    ctec_neg['comment_text'].iloc[indneg], \n",
    "    ignore_index = True\n",
    ")\n",
    "\n",
    "y_trainval = jigsaw_df['label'].append(\n",
    "    ctec_pos['label'].iloc[indpos], \n",
    "    ignore_index = True\n",
    ").append(\n",
    "    ctec_neg['label'].iloc[indneg], \n",
    "    ignore_index = True\n",
    ")\n",
    "\n",
    "# X_test in text format, and y_test \n",
    "X_test_text = ctec_neg['comment_text'].iloc[notindneg].append(\n",
    "    ctec_pos['comment_text'].iloc[notindpos], \n",
    "    ignore_index = True\n",
    ")\n",
    "\n",
    "y_test = ctec_neg['label'].iloc[notindneg].append(\n",
    "    ctec_pos['label'].iloc[notindpos], \n",
    "    ignore_index = True\n",
    ")"
   ]
  },
  {
   "cell_type": "code",
   "execution_count": 128,
   "metadata": {
    "colab": {
     "base_uri": "https://localhost:8080/",
     "height": 421
    },
    "colab_type": "code",
    "executionInfo": {
     "elapsed": 3957,
     "status": "ok",
     "timestamp": 1597877191514,
     "user": {
      "displayName": "Tianzhi Li",
      "photoUrl": "",
      "userId": "09071292365475398036"
     },
     "user_tz": 240
    },
    "id": "16F-Pz6WMqtV",
    "outputId": "d47d8764-9345-4b44-fbf7-20adc6cf83ae"
   },
   "outputs": [
    {
     "data": {
      "text/plain": [
       "Text(0.5, 1.0, 'Test set')"
      ]
     },
     "execution_count": 128,
     "metadata": {
      "tags": []
     },
     "output_type": "execute_result"
    },
    {
     "data": {
      "image/png": "[encoded data removed]",
      "text/plain": [
       "<Figure size 864x432 with 2 Axes>"
      ]
     },
     "metadata": {
      "image/png": {
       "height": 386,
       "width": 736
      },
      "needs_background": "light",
      "tags": []
     },
     "output_type": "display_data"
    }
   ],
   "source": [
    "ax1 = plt.subplot(121)\n",
    "sns.countplot(y_trainval)\n",
    "plt.xlabel('toxic')\n",
    "plt.title('Training set')\n",
    "\n",
    "ax2 = plt.subplot(122)\n",
    "sns.countplot(y_test)\n",
    "plt.xlabel('toxic')\n",
    "plt.title('Test set')"
   ]
  },
  {
   "cell_type": "markdown",
   "metadata": {
    "colab_type": "text",
    "id": "7pL47KOZMqtY"
   },
   "source": [
    "## BERT basics\n",
    "\n",
    "If there is any unexpected error with ipywidget, run the following commands: \n",
    "\n",
    "```\n",
    "$ conda install -c conda-forge ipywidgets\n",
    "$ jupyter nbextension enable --py widgetsnbextension\n",
    "```\n",
    "\n",
    "### Tokens"
   ]
  },
  {
   "cell_type": "code",
   "execution_count": 129,
   "metadata": {
    "colab": {
     "base_uri": "https://localhost:8080/",
     "height": 70
    },
    "colab_type": "code",
    "executionInfo": {
     "elapsed": 4089,
     "status": "ok",
     "timestamp": 1597877191661,
     "user": {
      "displayName": "Tianzhi Li",
      "photoUrl": "",
      "userId": "09071292365475398036"
     },
     "user_tz": 240
    },
    "id": "EiD9LSZhMqtZ",
    "outputId": "e7c2665e-9ac8-473c-ce4f-a00a7536dc3c"
   },
   "outputs": [
    {
     "name": "stdout",
     "output_type": "stream",
     "text": [
      "Sentence = Yall gon make me lose my mind! wtf\n",
      "Tokens = ['ya', '##ll', 'go', '##n', 'make', 'me', 'lose', 'my', 'mind', '!', 'w', '##tf']\n",
      "Token IDs = [8038, 3363, 2175, 2078, 2191, 2033, 4558, 2026, 2568, 999, 1059, 24475]\n"
     ]
    }
   ],
   "source": [
    "# Case-insensitive version of BERT tokenizer\n",
    "PRE_TRAINED_MODEL_NAME = 'bert-base-uncased'\n",
    "tokenizer = BertTokenizer.from_pretrained(PRE_TRAINED_MODEL_NAME)\n",
    "\n",
    "# Illustrate how tokenization works \n",
    "sample_txt = 'Yall gon make me lose my mind! wtf'\n",
    "tokens = tokenizer.tokenize(sample_txt)\n",
    "token_ids = tokenizer.convert_tokens_to_ids(tokens)\n",
    "\n",
    "print(f'Sentence = {sample_txt}')\n",
    "print(f'Tokens = {tokens}')\n",
    "print(f'Token IDs = {token_ids}')"
   ]
  },
  {
   "cell_type": "markdown",
   "metadata": {
    "colab_type": "text",
    "id": "j1VD3FIJMqtc"
   },
   "source": [
    "Here are some special tokens provided by `BertTokenizer`. "
   ]
  },
  {
   "cell_type": "code",
   "execution_count": 130,
   "metadata": {
    "colab": {
     "base_uri": "https://localhost:8080/",
     "height": 88
    },
    "colab_type": "code",
    "executionInfo": {
     "elapsed": 4075,
     "status": "ok",
     "timestamp": 1597877191662,
     "user": {
      "displayName": "Tianzhi Li",
      "photoUrl": "",
      "userId": "09071292365475398036"
     },
     "user_tz": 240
    },
    "id": "JcINuz9uMqtc",
    "outputId": "8b2e9c9e-c05f-4585-c0e2-bddace8263b5"
   },
   "outputs": [
    {
     "name": "stdout",
     "output_type": "stream",
     "text": [
      "[SEP] 102\n",
      "[CLS] 101\n",
      "[PAD] 0\n",
      "[UNK] 100\n"
     ]
    }
   ],
   "source": [
    "# End of sentence\n",
    "print(tokenizer.sep_token, tokenizer.sep_token_id)\n",
    "\n",
    "# Must add this to the start of each sentence, so BERT knows we are doing classification\n",
    "print(tokenizer.cls_token, tokenizer.cls_token_id)\n",
    "\n",
    "# Padding\n",
    "print(tokenizer.pad_token, tokenizer.pad_token_id)\n",
    "\n",
    "# Unknown \n",
    "print(tokenizer.unk_token, tokenizer.unk_token_id)"
   ]
  },
  {
   "cell_type": "markdown",
   "metadata": {
    "colab_type": "text",
    "id": "vdqUolNkMqtf"
   },
   "source": [
    "We use `encond_plus()` method to do all the necessary works. Running the following cell and we will see how `sample_txt` is encoded with special tokens and other info. "
   ]
  },
  {
   "cell_type": "code",
   "execution_count": 131,
   "metadata": {
    "colab": {
     "base_uri": "https://localhost:8080/",
     "height": 144
    },
    "colab_type": "code",
    "executionInfo": {
     "elapsed": 4058,
     "status": "ok",
     "timestamp": 1597877191663,
     "user": {
      "displayName": "Tianzhi Li",
      "photoUrl": "",
      "userId": "09071292365475398036"
     },
     "user_tz": 240
    },
    "id": "RuV9TrCRMqtf",
    "outputId": "e93070cf-8ec5-45b6-a048-a77a7fd90bd8"
   },
   "outputs": [
    {
     "name": "stderr",
     "output_type": "stream",
     "text": [
      "Truncation was not explicitely activated but `max_length` is provided a specific value, please use `truncation=True` to explicitely truncate examples to max length. Defaulting to 'longest_first' truncation strategy. If you encode pairs of sequences (GLUE-style) with the tokenizer you can select this strategy more precisely by providing a specific strategy to `truncation`.\n"
     ]
    },
    {
     "data": {
      "text/plain": [
       "{'input_ids': tensor([[  101,  8038,  3363,  2175,  2078,  2191,  2033,  4558,  2026,  2568,\n",
       "           999,  1059, 24475,   102,     0,     0,     0,     0,     0,     0,\n",
       "             0,     0,     0,     0,     0,     0,     0,     0,     0,     0,\n",
       "             0,     0]]), 'attention_mask': tensor([[1, 1, 1, 1, 1, 1, 1, 1, 1, 1, 1, 1, 1, 1, 0, 0, 0, 0, 0, 0, 0, 0, 0, 0,\n",
       "         0, 0, 0, 0, 0, 0, 0, 0]])}"
      ]
     },
     "execution_count": 131,
     "metadata": {
      "tags": []
     },
     "output_type": "execute_result"
    }
   ],
   "source": [
    "encoding = tokenizer.encode_plus(\n",
    "    sample_txt, \n",
    "    max_length = 32,  # Encoded as a 32-dim tensor\n",
    "    add_special_tokens = True,  # Add [CLS] and [SEP]\n",
    "    return_token_type_ids = False, \n",
    "    pad_to_max_length = True, \n",
    "    return_attention_mask = True, \n",
    "    return_tensors = 'pt'   # return PyTorch tensors \n",
    ")\n",
    "\n",
    "encoding"
   ]
  },
  {
   "cell_type": "markdown",
   "metadata": {
    "colab_type": "text",
    "id": "sp7aKLXVMqti"
   },
   "source": [
    "We can also perform the inverse operation of finding tokens given IDs. "
   ]
  },
  {
   "cell_type": "code",
   "execution_count": 16,
   "metadata": {
    "colab": {
     "base_uri": "https://localhost:8080/",
     "height": 55
    },
    "colab_type": "code",
    "executionInfo": {
     "elapsed": 3581,
     "status": "ok",
     "timestamp": 1597865718135,
     "user": {
      "displayName": "Tianzhi Li",
      "photoUrl": "",
      "userId": "09071292365475398036"
     },
     "user_tz": 240
    },
    "id": "-EogMJVeMqtj",
    "outputId": "cbd34fe4-3510-4555-92c0-0e4c1048d54f"
   },
   "outputs": [
    {
     "name": "stdout",
     "output_type": "stream",
     "text": [
      "['[CLS]', 'ya', '##ll', 'go', '##n', 'make', 'me', 'lose', 'my', 'mind', '!', 'w', '##tf', '[SEP]', '[PAD]', '[PAD]', '[PAD]', '[PAD]', '[PAD]', '[PAD]', '[PAD]', '[PAD]', '[PAD]', '[PAD]', '[PAD]', '[PAD]', '[PAD]', '[PAD]', '[PAD]', '[PAD]', '[PAD]', '[PAD]']\n"
     ]
    }
   ],
   "source": [
    "print(tokenizer.convert_ids_to_tokens(encoding['input_ids'][0]))"
   ]
  },
  {
   "cell_type": "markdown",
   "metadata": {
    "colab_type": "text",
    "id": "24O8aMxhMqtm"
   },
   "source": [
    "## Preprocessing\n",
    "\n",
    "### Choosing sequence length\n",
    "\n",
    "BERT only works with fixed-length sequences, therefore we need to choose a max length. "
   ]
  },
  {
   "cell_type": "code",
   "execution_count": 17,
   "metadata": {
    "colab": {
     "base_uri": "https://localhost:8080/",
     "height": 387
    },
    "colab_type": "code",
    "executionInfo": {
     "elapsed": 46577,
     "status": "ok",
     "timestamp": 1597865761147,
     "user": {
      "displayName": "Tianzhi Li",
      "photoUrl": "",
      "userId": "09071292365475398036"
     },
     "user_tz": 240
    },
    "id": "0_t8bs2fMqtm",
    "outputId": "3c2da304-7c75-4510-9120-16f911e073ee"
   },
   "outputs": [
    {
     "data": {
      "image/png": "[encoded data removed]",
      "text/plain": [
       "<Figure size 864x432 with 1 Axes>"
      ]
     },
     "metadata": {
      "image/png": {
       "height": 370,
       "width": 729
      },
      "needs_background": "light",
      "tags": []
     },
     "output_type": "display_data"
    }
   ],
   "source": [
    "# We don't need to run this cell in the future \n",
    "\n",
    "token_lens = []\n",
    "\n",
    "for text in X_trainval_text: \n",
    "    tokens = tokenizer.encode(text, truncation = True, max_length = 512)\n",
    "    token_lens.append(len(tokens))\n",
    "    \n",
    "for text in X_test_text: \n",
    "    tokens = tokenizer.encode(text, truncation = True, max_length = 512)\n",
    "    token_lens.append(len(tokens))\n",
    "    \n",
    "token_lens.append(len(tokens))\n",
    "\n",
    "sns.distplot(token_lens)\n",
    "plt.xlim([0, 350]);\n",
    "plt.xlabel('Token count');\n"
   ]
  },
  {
   "cell_type": "markdown",
   "metadata": {
    "colab_type": "text",
    "id": "85Ga7SKsMqtp"
   },
   "source": [
    "Most of the texts contain less than 250 tokens. To be on the safe side, we choose a maximum length of 300. "
   ]
  },
  {
   "cell_type": "code",
   "execution_count": 132,
   "metadata": {
    "colab": {},
    "colab_type": "code",
    "executionInfo": {
     "elapsed": 280,
     "status": "ok",
     "timestamp": 1597877201317,
     "user": {
      "displayName": "Tianzhi Li",
      "photoUrl": "",
      "userId": "09071292365475398036"
     },
     "user_tz": 240
    },
    "id": "Ogjl53DeMqtp"
   },
   "outputs": [],
   "source": [
    "MAX_LEN = 300"
   ]
  },
  {
   "cell_type": "markdown",
   "metadata": {
    "colab_type": "text",
    "id": "DN-8UTlEMqts"
   },
   "source": [
    "Now we have everything we need to create a PyTorch `Dataset` class. "
   ]
  },
  {
   "cell_type": "code",
   "execution_count": 133,
   "metadata": {
    "colab": {},
    "colab_type": "code",
    "executionInfo": {
     "elapsed": 293,
     "status": "ok",
     "timestamp": 1597877203348,
     "user": {
      "displayName": "Tianzhi Li",
      "photoUrl": "",
      "userId": "09071292365475398036"
     },
     "user_tz": 240
    },
    "id": "EMYiTV0eMqts"
   },
   "outputs": [],
   "source": [
    "class ToxicDataset(Dataset): \n",
    "    def __init__(self, texts, labels, tokenizer, max_len):\n",
    "        super().__init__()\n",
    "        self.texts = texts \n",
    "        self.labels = labels\n",
    "        self.tokenizer = tokenizer \n",
    "        self.max_len = max_len\n",
    "        \n",
    "    def __len__(self): \n",
    "        return len(self.texts)\n",
    "    \n",
    "    # This method must be overwritten in a PyTorch Dataset class \n",
    "    def __getitem__(self, idx): \n",
    "        text = str(self.texts[idx])\n",
    "        label = self.labels[idx]\n",
    "        \n",
    "        encoding = self.tokenizer.encode_plus(\n",
    "            text, \n",
    "            add_special_tokens = True, \n",
    "            truncation = True, \n",
    "            max_length = self.max_len, \n",
    "            return_token_type_ids = False, \n",
    "            pad_to_max_length = True, \n",
    "            return_attention_mask = True, \n",
    "            return_tensors = 'pt'\n",
    "        )\n",
    "        \n",
    "        return {\n",
    "            'text': text, \n",
    "            'input_ids': encoding['input_ids'].flatten(),\n",
    "            'attention_mask': encoding['attention_mask'].flatten(),\n",
    "            'label': torch.tensor(label, dtype = torch.long)\n",
    "        }\n",
    "        "
   ]
  },
  {
   "cell_type": "code",
   "execution_count": 134,
   "metadata": {
    "colab": {},
    "colab_type": "code",
    "executionInfo": {
     "elapsed": 273,
     "status": "ok",
     "timestamp": 1597877205887,
     "user": {
      "displayName": "Tianzhi Li",
      "photoUrl": "",
      "userId": "09071292365475398036"
     },
     "user_tz": 240
    },
    "id": "7U2IANKmMqtu"
   },
   "outputs": [],
   "source": [
    "df_trainval = pd.concat([X_trainval_text, y_trainval], axis = 1)\n",
    "df_test = pd.concat([X_test_text, y_test], axis = 1)\n",
    "\n",
    "# Split in to training set and validation set \n",
    "df_train, df_val = train_test_split(\n",
    "    df_trainval, \n",
    "    test_size = 0.1, \n",
    "    random_state = RANDOM_SEED \n",
    ")"
   ]
  },
  {
   "cell_type": "markdown",
   "metadata": {
    "colab_type": "text",
    "id": "5b0UrTYeMqtx"
   },
   "source": [
    "We also need to create `DataLoader`. Data loader combines dataset and a sampler, providing an iterable over the given dataset. "
   ]
  },
  {
   "cell_type": "code",
   "execution_count": 135,
   "metadata": {
    "colab": {},
    "colab_type": "code",
    "executionInfo": {
     "elapsed": 268,
     "status": "ok",
     "timestamp": 1597877208650,
     "user": {
      "displayName": "Tianzhi Li",
      "photoUrl": "",
      "userId": "09071292365475398036"
     },
     "user_tz": 240
    },
    "id": "-w26ZhHJMqtx"
   },
   "outputs": [],
   "source": [
    "def create_data_loader(df, tokenizer, max_len, batch_size): \n",
    "    ds = ToxicDataset(\n",
    "        texts = df['comment_text'].to_numpy(), \n",
    "        labels = df['label'].to_numpy().astype(int), \n",
    "        tokenizer = tokenizer, \n",
    "        max_len = max_len\n",
    "    )\n",
    "    \n",
    "    return DataLoader(\n",
    "        ds, \n",
    "        batch_size = batch_size, \n",
    "        num_workers = 0 #mp.cpu_count() - 1\n",
    "        # Multiprocessing is not working correctly on my machine\n",
    "    )\n",
    "\n",
    "BATCH_SIZE = 16\n",
    "\n",
    "train_data_loader = create_data_loader(\n",
    "    df_train, tokenizer, MAX_LEN, BATCH_SIZE\n",
    ")\n",
    "\n",
    "val_data_loader = create_data_loader(\n",
    "    df_val, tokenizer, MAX_LEN, BATCH_SIZE\n",
    ")\n",
    "\n",
    "test_data_loader = create_data_loader(\n",
    "    df_test, tokenizer, MAX_LEN, BATCH_SIZE\n",
    ")"
   ]
  },
  {
   "cell_type": "markdown",
   "metadata": {
    "colab_type": "text",
    "id": "27lLWGYbMqtz"
   },
   "source": [
    "To see how `DataLoader` works, here is an example batch from our data loader. Observe that the size of fetched data from an iteratino matches `BATCH_SIZE`. "
   ]
  },
  {
   "cell_type": "code",
   "execution_count": 136,
   "metadata": {
    "colab": {
     "base_uri": "https://localhost:8080/",
     "height": 106
    },
    "colab_type": "code",
    "executionInfo": {
     "elapsed": 275,
     "status": "ok",
     "timestamp": 1597877211695,
     "user": {
      "displayName": "Tianzhi Li",
      "photoUrl": "",
      "userId": "09071292365475398036"
     },
     "user_tz": 240
    },
    "id": "pRYlXSsNMqt0",
    "outputId": "4bfa924a-6e33-43bb-a9e8-45d97e262b1f"
   },
   "outputs": [
    {
     "name": "stdout",
     "output_type": "stream",
     "text": [
      "Keys of dictionary = dict_keys(['text', 'input_ids', 'attention_mask', 'label'])\n",
      "Batch size = 16\n",
      "Shape of input_ids = torch.Size([16, 300])\n",
      "Shape of attention_masks = torch.Size([16, 300])\n",
      "Shape of labels = torch.Size([16])\n"
     ]
    }
   ],
   "source": [
    "# The iterator from DataLoader\n",
    "iterator = iter(train_data_loader)\n",
    "\n",
    "# Fetch `BATCH_SIZE` examples per iteration\n",
    "data = next(iterator)\n",
    "\n",
    "print(f'Keys of dictionary = {data.keys()}')\n",
    "print(f'Batch size = {BATCH_SIZE}')\n",
    "print('Shape of input_ids = {}'.format(data['input_ids'].shape))\n",
    "print('Shape of attention_masks = {}'.format(data['attention_mask'].shape))\n",
    "print('Shape of labels = {}'.format(data['label'].shape))"
   ]
  },
  {
   "cell_type": "markdown",
   "metadata": {
    "colab_type": "text",
    "id": "UsRRjhcXMqt2"
   },
   "source": [
    "## Classification\n",
    "\n",
    "### Illustration\n",
    "\n",
    "There are a lot of helper classes and functions that make using BERT easier, such as `BertForSequenceClassifier`, `BertForQuestionAnswering`. For now we will instead build everything from scratch. "
   ]
  },
  {
   "cell_type": "code",
   "execution_count": 137,
   "metadata": {
    "colab": {},
    "colab_type": "code",
    "executionInfo": {
     "elapsed": 3369,
     "status": "ok",
     "timestamp": 1597877225417,
     "user": {
      "displayName": "Tianzhi Li",
      "photoUrl": "",
      "userId": "09071292365475398036"
     },
     "user_tz": 240
    },
    "id": "C6XBbXrTMqt3"
   },
   "outputs": [],
   "source": [
    "# Load the model \n",
    "bert_model = BertModel.from_pretrained(PRE_TRAINED_MODEL_NAME)"
   ]
  },
  {
   "cell_type": "markdown",
   "metadata": {
    "colab_type": "text",
    "id": "fuwmwdBMMqt5"
   },
   "source": [
    "For illustration purpose, we apply `bert_model` on our sample text. \n",
    "\n",
    "`last_hidden_state` is a sequence of hidden states of the last layer of the model. Obtaining the `pooled_output` is done by applying `BertPooler` on `last_hidden_state`. "
   ]
  },
  {
   "cell_type": "code",
   "execution_count": 138,
   "metadata": {
    "colab": {
     "base_uri": "https://localhost:8080/",
     "height": 70
    },
    "colab_type": "code",
    "executionInfo": {
     "elapsed": 1613,
     "status": "ok",
     "timestamp": 1597877225589,
     "user": {
      "displayName": "Tianzhi Li",
      "photoUrl": "",
      "userId": "09071292365475398036"
     },
     "user_tz": 240
    },
    "id": "nOZcBXrxMqt6",
    "outputId": "2ce37313-48dd-4fd3-e848-114b3da5ab08"
   },
   "outputs": [
    {
     "name": "stdout",
     "output_type": "stream",
     "text": [
      "torch.Size([1, 32, 768])\n",
      "768\n",
      "torch.Size([1, 768])\n"
     ]
    }
   ],
   "source": [
    "# BERT model takes input_id and attention_mask as parameters \n",
    "last_hidden_state, pooled_output = bert_model(\n",
    "    input_ids = encoding['input_ids'], \n",
    "    attention_mask = encoding['attention_mask']\n",
    ")\n",
    "\n",
    "print(last_hidden_state.shape)\n",
    "print(bert_model.config.hidden_size)\n",
    "print(pooled_output.shape)"
   ]
  },
  {
   "cell_type": "markdown",
   "metadata": {
    "colab_type": "text",
    "id": "tSXtiTEVMqt9"
   },
   "source": [
    "For each of our 32 tokens, we have a 768-dim hidden state. \n",
    "\n",
    "Now we create a classifier. "
   ]
  },
  {
   "cell_type": "code",
   "execution_count": 139,
   "metadata": {
    "colab": {},
    "colab_type": "code",
    "executionInfo": {
     "elapsed": 264,
     "status": "ok",
     "timestamp": 1597877227211,
     "user": {
      "displayName": "Tianzhi Li",
      "photoUrl": "",
      "userId": "09071292365475398036"
     },
     "user_tz": 240
    },
    "id": "tWODvedmMqt-"
   },
   "outputs": [],
   "source": [
    "class ToxicClassifier(nn.Module): \n",
    "    def __init__(self, n_classes): \n",
    "        super(ToxicClassifier, self).__init__()\n",
    "        self.bert = BertModel.from_pretrained(PRE_TRAINED_MODEL_NAME)\n",
    "        # Dropout rate\n",
    "        self.drop = nn.Dropout(p = 0.3)\n",
    "        # From the last hidden layer to the last layer \n",
    "        self.out = nn.Linear(self.bert.config.hidden_size, n_classes)\n",
    "        \n",
    "    def forward(self, input_ids, attention_mask): \n",
    "        # BERT model returns the last hidden layer\n",
    "        _, pooled_output = self.bert(\n",
    "            input_ids = input_ids, \n",
    "            attention_mask = attention_mask\n",
    "        )\n",
    "        # Drop out according to dropout rate\n",
    "        output = self.drop(pooled_output)\n",
    "        # Return the last layer \n",
    "        return self.out(output)"
   ]
  },
  {
   "cell_type": "code",
   "execution_count": 140,
   "metadata": {
    "colab": {},
    "colab_type": "code",
    "executionInfo": {
     "elapsed": 2968,
     "status": "ok",
     "timestamp": 1597877232400,
     "user": {
      "displayName": "Tianzhi Li",
      "photoUrl": "",
      "userId": "09071292365475398036"
     },
     "user_tz": 240
    },
    "id": "hKyRCznNMquA"
   },
   "outputs": [],
   "source": [
    "# Binary classification \n",
    "n_classes = 2\n",
    "\n",
    "# Instantiate the model and move it to GPU if possible \n",
    "model = ToxicClassifier(n_classes)   # \n",
    "model = model.to(device)"
   ]
  },
  {
   "cell_type": "markdown",
   "metadata": {
    "colab_type": "text",
    "id": "pWR5VOI0MquD"
   },
   "source": [
    "(For illustration purpose) We will move the example batch of our training data to GPU. "
   ]
  },
  {
   "cell_type": "code",
   "execution_count": 141,
   "metadata": {
    "colab": {
     "base_uri": "https://localhost:8080/",
     "height": 52
    },
    "colab_type": "code",
    "executionInfo": {
     "elapsed": 243,
     "status": "ok",
     "timestamp": 1597877233187,
     "user": {
      "displayName": "Tianzhi Li",
      "photoUrl": "",
      "userId": "09071292365475398036"
     },
     "user_tz": 240
    },
    "id": "Z13xCGIWMquE",
    "outputId": "8c999a87-2161-4362-e787-c3dc3ef1f086"
   },
   "outputs": [
    {
     "name": "stdout",
     "output_type": "stream",
     "text": [
      "torch.Size([16, 300])\n",
      "torch.Size([16, 300])\n"
     ]
    }
   ],
   "source": [
    "input_ids = data['input_ids'].to(device)\n",
    "attention_mask = data['attention_mask'].to(device)\n",
    "\n",
    "print(input_ids.shape)\n",
    "print(attention_mask.shape)"
   ]
  },
  {
   "cell_type": "markdown",
   "metadata": {
    "colab_type": "text",
    "id": "9qjZKv7LMquI"
   },
   "source": [
    "(For illustration purpose) run our model on our example batch. "
   ]
  },
  {
   "cell_type": "code",
   "execution_count": 28,
   "metadata": {
    "colab": {
     "base_uri": "https://localhost:8080/",
     "height": 337
    },
    "colab_type": "code",
    "executionInfo": {
     "elapsed": 72088,
     "status": "ok",
     "timestamp": 1597865786758,
     "user": {
      "displayName": "Tianzhi Li",
      "photoUrl": "",
      "userId": "09071292365475398036"
     },
     "user_tz": 240
    },
    "id": "e_qiivanMquI",
    "outputId": "016110c1-1503-4d1c-d746-3d597b0e3742"
   },
   "outputs": [
    {
     "name": "stdout",
     "output_type": "stream",
     "text": [
      "CPU times: user 23.3 ms, sys: 27.1 ms, total: 50.4 ms\n",
      "Wall time: 115 ms\n"
     ]
    },
    {
     "data": {
      "text/plain": [
       "tensor([[0.6535, 0.3465],\n",
       "        [0.5919, 0.4081],\n",
       "        [0.5158, 0.4842],\n",
       "        [0.6837, 0.3163],\n",
       "        [0.5051, 0.4949],\n",
       "        [0.5264, 0.4736],\n",
       "        [0.6456, 0.3544],\n",
       "        [0.6265, 0.3735],\n",
       "        [0.7452, 0.2548],\n",
       "        [0.5280, 0.4720],\n",
       "        [0.5335, 0.4665],\n",
       "        [0.6358, 0.3642],\n",
       "        [0.5244, 0.4756],\n",
       "        [0.6380, 0.3620],\n",
       "        [0.5182, 0.4818],\n",
       "        [0.7197, 0.2803]], device='cuda:0', grad_fn=<SoftmaxBackward>)"
      ]
     },
     "execution_count": 28,
     "metadata": {
      "tags": []
     },
     "output_type": "execute_result"
    }
   ],
   "source": [
    "%time F.softmax(model(input_ids, attention_mask), dim = 1)"
   ]
  },
  {
   "cell_type": "markdown",
   "metadata": {
    "colab_type": "text",
    "id": "d680xeCgMquL"
   },
   "source": [
    "### Training\n",
    "\n",
    "Here are the recommendation for fine tuning given by the BERT authors. \n",
    "\n",
    "    Batch size: 16, 32\n",
    "    Learning rate (Adam): 5e-5, 3e-5, 2e-5\n",
    "    Number of epochs: 2, 3, 4"
   ]
  },
  {
   "cell_type": "code",
   "execution_count": 142,
   "metadata": {
    "colab": {},
    "colab_type": "code",
    "executionInfo": {
     "elapsed": 246,
     "status": "ok",
     "timestamp": 1597877240047,
     "user": {
      "displayName": "Tianzhi Li",
      "photoUrl": "",
      "userId": "09071292365475398036"
     },
     "user_tz": 240
    },
    "id": "ATlbA0TzMquM"
   },
   "outputs": [],
   "source": [
    "EPOCHS = 2\n",
    "\n",
    "optimizer = AdamW(model.parameters(), lr=2e-5, correct_bias=False)\n",
    "\n",
    "# len(train_data_loader) = number of iterations to finish an epoch\n",
    "# = number of batches in an epoch \n",
    "total_steps = len(train_data_loader)\n",
    "\n",
    "# Linear scheduler\n",
    "scheduler = get_linear_schedule_with_warmup(\n",
    "    optimizer, \n",
    "    num_warmup_steps = 0, \n",
    "    num_training_steps = total_steps\n",
    ")\n",
    "\n",
    "# Loss function \n",
    "loss_fn = nn.CrossEntropyLoss().to(device)"
   ]
  },
  {
   "cell_type": "markdown",
   "metadata": {
    "colab_type": "text",
    "id": "GiQfpk8nMquP"
   },
   "source": [
    "We define 2 helper functions, `train_epoch` and `eval_model`, that are needed for training. "
   ]
  },
  {
   "cell_type": "code",
   "execution_count": 144,
   "metadata": {
    "colab": {},
    "colab_type": "code",
    "executionInfo": {
     "elapsed": 346,
     "status": "ok",
     "timestamp": 1597877517854,
     "user": {
      "displayName": "Tianzhi Li",
      "photoUrl": "",
      "userId": "09071292365475398036"
     },
     "user_tz": 240
    },
    "id": "9JYD9WUYMquP"
   },
   "outputs": [],
   "source": [
    "def train_epoch(\n",
    "    model, \n",
    "    data_loader, \n",
    "    loss_fn, \n",
    "    optimizer, \n",
    "    device, \n",
    "    scheduler, \n",
    "    n_examples\n",
    "): \n",
    "    # Set the model in training mode \n",
    "    model = model.train()\n",
    "\n",
    "    torch.cuda.empty_cache()\n",
    "    \n",
    "    losses = []    # For plotting learning curve \n",
    "    # label, pred_class\n",
    "    # 00 --> true negative \n",
    "    # 01 --> false positive \n",
    "    # 10 --> false negative \n",
    "    # 11 --> true positive \n",
    "    cat_counts = [0, 0, 0, 0]\n",
    "    batch_counter = 0\n",
    "    \n",
    "    for batch in data_loader: \n",
    "        print(f'\\rTraining batch #{batch_counter} out of {len(data_loader)}', end = '')\n",
    "        \n",
    "        # Load data from current batch\n",
    "        input_ids = batch['input_ids'].to(device)\n",
    "        attention_mask = batch['attention_mask'].to(device)\n",
    "        labels = batch['label'].to(device)\n",
    "        \n",
    "        # Feed forward on current batch\n",
    "        outputs = model(\n",
    "            input_ids = input_ids, \n",
    "            attention_mask = attention_mask\n",
    "        )\n",
    "        \n",
    "        # torch.max with dim=1 returns (maxvals, indices)\n",
    "        # indices are the labels we want to predict \n",
    "        preds_prob, preds_class = torch.max(outputs, dim = 1)\n",
    "        \n",
    "        # Compute which category each examples falls in\n",
    "        # 00 --> true negative \n",
    "        # 01 --> false positive \n",
    "        # 10 --> false negative \n",
    "        # 11 --> true positive \n",
    "        cats = 2 * labels  + preds_class\n",
    "        # Count each category \n",
    "        for i in range(4): \n",
    "            cat_counts[i] += (cats == i).sum().item()\n",
    "        \n",
    "        # Calculate loss\n",
    "        loss = loss_fn(outputs, labels)\n",
    "        \n",
    "        # For analysis purpose \n",
    "        losses.append(loss.item())\n",
    "        \n",
    "        # Backprop\n",
    "        loss.backward()\n",
    "        # clipgrad_norm is for avoiding gradient explosion\n",
    "        nn.utils.clip_grad_norm_(model.parameters(), max_norm = 1.0)\n",
    "        optimizer.step()\n",
    "        # Scheduler is called everytime a batch is fed to the model\n",
    "        scheduler.step()\n",
    "        # Clear the gradients of optimizer \n",
    "        optimizer.zero_grad()\n",
    "        # Detach from computation history\n",
    "        loss.detach()\n",
    "        # Clear GPU\n",
    "        torch.cuda.empty_cache()\n",
    "\n",
    "        batch_counter += 1\n",
    "    \n",
    "    # Train accuracy of epoch\n",
    "    acc = (cat_counts[0] + cat_counts[3]) / np.sum(cat_counts)\n",
    "    # F1 score assuming positive example is scarce\n",
    "    f1_pos = cat_counts[3] / (cat_counts[3] + .5 * cat_counts[1] + .5 * cat_counts[2])\n",
    "    # F1 score assuming negative example is scarce \n",
    "    f1_neg = cat_counts[0] / (cat_counts[0] + .5 * cat_counts[1] + .5 * cat_counts[2])\n",
    "    print()\n",
    "    return np.mean(losses), acc, f1_pos, f1_neg"
   ]
  },
  {
   "cell_type": "code",
   "execution_count": 152,
   "metadata": {
    "colab": {},
    "colab_type": "code",
    "executionInfo": {
     "elapsed": 429,
     "status": "ok",
     "timestamp": 1597881131415,
     "user": {
      "displayName": "Tianzhi Li",
      "photoUrl": "",
      "userId": "09071292365475398036"
     },
     "user_tz": 240
    },
    "id": "P8Q6-XMbMquT"
   },
   "outputs": [],
   "source": [
    "def eval_model(model, data_loader, loss_fn, device, n_examples, confusion_detail = False):\n",
    "    # Set the model in evaluation mode \n",
    "    model = model.eval()\n",
    "\n",
    "    torch.cuda.empty_cache()\n",
    "    \n",
    "    losses = []\n",
    "    # label, pred_class\n",
    "    # 00 --> true negative \n",
    "    # 01 --> false positive \n",
    "    # 10 --> false negative \n",
    "    # 11 --> true positive \n",
    "    cat_counts = [0, 0, 0, 0]\n",
    "    batch_counter = 0\n",
    "    \n",
    "    with torch.no_grad(): \n",
    "        for batch in data_loader: \n",
    "            print(f'\\rCross-validating batch #{batch_counter} out of {len(data_loader)}', end = '')\n",
    "\n",
    "            # Load data from current batch\n",
    "            input_ids = batch['input_ids'].to(device)\n",
    "            attention_mask = batch['attention_mask'].to(device)\n",
    "            labels = batch['label'].to(device)\n",
    "\n",
    "            # Feed forward on current batch\n",
    "            outputs = model(\n",
    "                input_ids = input_ids, \n",
    "                attention_mask = attention_mask\n",
    "            )\n",
    "\n",
    "            # torch.max with dim=1 returns (maxvals, indices)\n",
    "            # indices are the labels we want to predict \n",
    "            preds_prob, preds_class = torch.max(outputs, dim = 1)\n",
    "\n",
    "            # Compute which category each examples falls in\n",
    "            # 00 --> true negative \n",
    "            # 01 --> false positive \n",
    "            # 10 --> false negative \n",
    "            # 11 --> true positive \n",
    "            cats = 2 * labels  + preds_class\n",
    "            # Count each category \n",
    "            for i in range(4): \n",
    "                cat_counts[i] += (cats == i).sum().item()\n",
    "            \n",
    "            # Calculate loss\n",
    "            loss = loss_fn(outputs, labels)\n",
    "\n",
    "            # For analysis purpose \n",
    "            losses.append(loss.item())\n",
    "\n",
    "            # Clear GPU\n",
    "            torch.cuda.empty_cache()\n",
    "\n",
    "            batch_counter += 1\n",
    "            \n",
    "    # Train accuracy of epoch\n",
    "    acc = (cat_counts[0] + cat_counts[3]) / np.sum(cat_counts)\n",
    "    # F1 score assuming positive example is scarce\n",
    "    f1_pos = cat_counts[3] / (cat_counts[3] + .5 * cat_counts[1] + .5 * cat_counts[2])\n",
    "    # F1 score assuming negative example is scarce \n",
    "    f1_neg = cat_counts[0] / (cat_counts[0] + .5 * cat_counts[1] + .5 * cat_counts[2])\n",
    "    print()\n",
    "\n",
    "    if confusion_detail: \n",
    "        print(f'# True negative = {cat_counts[0]}')\n",
    "        print(f'# False positive = {cat_counts[1]}')\n",
    "        print(f'# False negative = {cat_counts[2]}')\n",
    "        print(f'# True positive = {cat_counts[3]}')\n",
    "\n",
    "    return np.mean(losses), acc, f1_pos, f1_neg"
   ]
  },
  {
   "cell_type": "markdown",
   "metadata": {
    "colab_type": "text",
    "id": "4mYGZZgKMquX"
   },
   "source": [
    "We can finally train the model. "
   ]
  },
  {
   "cell_type": "code",
   "execution_count": 146,
   "metadata": {
    "colab": {
     "base_uri": "https://localhost:8080/",
     "height": 372
    },
    "colab_type": "code",
    "executionInfo": {
     "elapsed": 2607162,
     "status": "ok",
     "timestamp": 1597880133514,
     "user": {
      "displayName": "Tianzhi Li",
      "photoUrl": "",
      "userId": "09071292365475398036"
     },
     "user_tz": 240
    },
    "id": "GVxkeyOiMquY",
    "outputId": "6ced694c-13b9-4a09-cd2e-29777aed310f"
   },
   "outputs": [
    {
     "name": "stdout",
     "output_type": "stream",
     "text": [
      "Start epoch 1 out of 2\n",
      "----------\n",
      "Training batch #1715 out of 1716\n",
      "Train loss = 0.2949289824696375, Train accuracy = 0.8826593806921675, Train f1_pos = 0.8421929351820097, Train f1_neg = 0.9066079039693815\n",
      "Cross-validating batch #190 out of 191\n",
      "Validation loss = 0.24884709251644724, Validation accuracy = 0.9045901639344263, Validation f1_pos = 0.8720879120879121, Validation f1_neg = 0.923921568627451\n",
      "----------\n",
      "End epoch 1 out of 2\n",
      "\n",
      "Start epoch 2 out of 2\n",
      "----------\n",
      "Training batch #1715 out of 1716\n",
      "Train loss = 0.17031891236791608, Train accuracy = 0.9383242258652095, Train f1_pos = 0.9186487915044929, Train f1_neg = 0.9503358854762534\n",
      "Cross-validating batch #190 out of 191\n",
      "Validation loss = 0.24884709251644724, Validation accuracy = 0.9045901639344263, Validation f1_pos = 0.8720879120879121, Validation f1_neg = 0.923921568627451\n",
      "----------\n",
      "End epoch 2 out of 2\n",
      "\n",
      "CPU times: user 20min 29s, sys: 22min 49s, total: 43min 18s\n",
      "Wall time: 43min 26s\n"
     ]
    }
   ],
   "source": [
    "%%time\n",
    "\n",
    "history = defaultdict(list)\n",
    "best_acc = 0\n",
    "best_f1_pos = 0\n",
    "best_f1_neg = 0\n",
    "\n",
    "for epoch in range(EPOCHS): \n",
    "    print(f'Start epoch {epoch + 1} out of {EPOCHS}')\n",
    "    print('-' * 10)\n",
    "    \n",
    "    train_loss, train_acc, train_f1_pos, train_f1_neg = train_epoch(\n",
    "        model, \n",
    "        train_data_loader, \n",
    "        loss_fn, \n",
    "        optimizer, \n",
    "        device, \n",
    "        scheduler, \n",
    "        len(df_train)\n",
    "    )\n",
    "    \n",
    "    print(f'Train loss = {train_loss}', end = ', ')\n",
    "    print(f'Train accuracy = {train_acc}', end = ', ')\n",
    "    print(f'Train f1_pos = {train_f1_pos}', end = ', ')\n",
    "    print(f'Train f1_neg = {train_f1_neg}')\n",
    "\n",
    "    val_loss, val_acc, val_f1_pos, val_f1_neg = eval_model(\n",
    "        model, \n",
    "        val_data_loader, \n",
    "        loss_fn, \n",
    "        device, \n",
    "        len(df_val)\n",
    "    )\n",
    "    \n",
    "    print(f'Validation loss = {val_loss}', end = ', ')\n",
    "    print(f'Validation accuracy = {val_acc}', end = ', ')\n",
    "    print(f'Validation f1_pos = {val_f1_pos}', end = ', ')\n",
    "    print(f'Validation f1_neg = {val_f1_neg}')\n",
    "\n",
    "    print('-' * 10)\n",
    "    print(f'End epoch {epoch + 1} out of {EPOCHS}', end = '\\n\\n')\n",
    "    \n",
    "    # Use accuracy as the metric to select best model \n",
    "    # Store the model with highest validation accuracy\n",
    "    if val_acc > best_acc: \n",
    "        torch.save(model.state_dict(), sess_pwd + 'best_model_state.bin')\n",
    "        best_acc = val_acc"
   ]
  },
  {
   "cell_type": "code",
   "execution_count": 147,
   "metadata": {
    "colab": {
     "base_uri": "https://localhost:8080/",
     "height": 35
    },
    "colab_type": "code",
    "executionInfo": {
     "elapsed": 282,
     "status": "ok",
     "timestamp": 1597880169659,
     "user": {
      "displayName": "Tianzhi Li",
      "photoUrl": "",
      "userId": "09071292365475398036"
     },
     "user_tz": 240
    },
    "id": "tPLsi47KFEL5",
    "outputId": "8b8c436f-16b9-48d6-e9f5-ac343e7ade6a"
   },
   "outputs": [
    {
     "data": {
      "text/plain": [
       "[]"
      ]
     },
     "execution_count": 147,
     "metadata": {
      "tags": []
     },
     "output_type": "execute_result"
    }
   ],
   "source": [
    "## With appropriate set-up, we can plot accuracy (and other metrics) vs. #epoch\n",
    "## Since we only have 2 epochs, it is not necessary to do so \n",
    "# plt.plot(history['train_acc'], label='train accuracy')\n",
    "# plt.plot(history['val_acc'], label='validation accuracy')\n",
    "# plt.title('Training history')\n",
    "# plt.ylabel('Accuracy')\n",
    "# plt.xlabel('Epoch')\n",
    "# plt.legend()\n",
    "# plt.ylim([0, 1]);"
   ]
  },
  {
   "cell_type": "markdown",
   "metadata": {
    "colab_type": "text",
    "id": "7Pr2uaM-5cNi"
   },
   "source": [
    "## Test the model"
   ]
  },
  {
   "cell_type": "code",
   "execution_count": 153,
   "metadata": {
    "colab": {
     "base_uri": "https://localhost:8080/",
     "height": 124
    },
    "colab_type": "code",
    "executionInfo": {
     "elapsed": 160600,
     "status": "ok",
     "timestamp": 1597881314378,
     "user": {
      "displayName": "Tianzhi Li",
      "photoUrl": "",
      "userId": "09071292365475398036"
     },
     "user_tz": 240
    },
    "id": "UNBlI4u35lbd",
    "outputId": "58d742b5-bb72-4c0d-8e1a-764bb4b04e2d"
   },
   "outputs": [
    {
     "name": "stdout",
     "output_type": "stream",
     "text": [
      "Cross-validating batch #812 out of 813\n",
      "# True negative = 330\n",
      "# False positive = 1071\n",
      "# False negative = 762\n",
      "# True positive = 10838\n",
      "Test loss = 0.4021753008144611, Test accuracy = 0.8590108453195908, Test f1_pos = 0.9220298609043345, Test f1_neg = 0.2647412755716005\n"
     ]
    }
   ],
   "source": [
    "test_loss, test_acc, test_f1_pos, test_f1_neg = eval_model(\n",
    "    model, test_data_loader, loss_fn, device, len(df_test), confusion_detail = True\n",
    ")\n",
    "\n",
    "print(f'Test loss = {test_loss}', end = ', ')\n",
    "print(f'Test accuracy = {test_acc}', end = ', ')\n",
    "print(f'Test f1_pos = {test_f1_pos}', end = ', ')\n",
    "print(f'Test f1_neg = {test_f1_neg}')"
   ]
  },
  {
   "cell_type": "code",
   "execution_count": null,
   "metadata": {
    "colab": {},
    "colab_type": "code",
    "id": "raVj_xVv6kjs"
   },
   "outputs": [],
   "source": []
  }
 ],
 "metadata": {
  "accelerator": "GPU",
  "colab": {
   "collapsed_sections": [],
   "name": "xprmt_04_sess_01_BERT_try.ipynb",
   "provenance": []
  },
  "kernelspec": {
   "display_name": "Python 3",
   "language": "python",
   "name": "python3"
  },
  "language_info": {
   "codemirror_mode": {
    "name": "ipython",
    "version": 3
   },
   "file_extension": ".py",
   "mimetype": "text/x-python",
   "name": "python",
   "nbconvert_exporter": "python",
   "pygments_lexer": "ipython3",
   "version": "3.8.3"
  }
 },
 "nbformat": 4,
 "nbformat_minor": 4
}
